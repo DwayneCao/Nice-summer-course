{
 "cells": [
  {
   "cell_type": "code",
   "execution_count": null,
   "metadata": {},
   "outputs": [],
   "source": [
    "%pylab inline\n",
    "%config InlineBackend.figure_format = 'retina'\n",
    "#from __future__ import division, print_function\n",
    "from ipywidgets import interact, widgets\n",
    "from IPython.display import display, HTML\n",
    "import os\n",
    "from PIL import Image\n",
    "from scipy.io import savemat, loadmat\n",
    "import warnings\n",
    "warnings.filterwarnings(\"ignore\")\n",
    "matplotlib.style.use('ggplot')\n",
    "# https://www.anaconda.com/download/\n",
    "# https://github.com/newby-jay/Nice-summer-course"
   ]
  },
  {
   "cell_type": "markdown",
   "metadata": {},
   "source": [
    "# Summary\n",
    "There is a clear need for simple and effective clinical biomarkers of airways disease. Mucus clearance and trapping of inhaled pathogens is the first line of immune defence. In human airways diseases, including cystic fibrosis (CF) and chronic obstructive pulmonary disease (COPD), immune defense is compromised and airways inflammation and infection often result. Passive microbead rheology can be used to determine both diffusive and viscoelastic properties of mucus harvested from human bronchial epithelial (HBE) cultures."
   ]
  },
  {
   "cell_type": "markdown",
   "metadata": {},
   "source": [
    "# The basic idea underlying microrheology\n",
    "  - Micron sized synthetic beads are suspended in a visco elastic fluid\n",
    "  - Record stochastic motion of beads with video microscopy\n",
    "  - Track bead position through time for all beads in a given video\n",
    "  - Analyze bead motion to uncover properties of visco elastic fluid"
   ]
  },
  {
   "cell_type": "markdown",
   "metadata": {},
   "source": [
    "# Example video clip of 2$\\mu m$ synthetic beads in salt water"
   ]
  },
  {
   "cell_type": "code",
   "execution_count": null,
   "metadata": {},
   "outputs": [],
   "source": [
    "HTML('<video width=\"640\" height=\"480\" controls autoplay loop src=\"60fps_0002.mp4\">')"
   ]
  },
  {
   "cell_type": "markdown",
   "metadata": {},
   "source": [
    "# Model #1: Brownian motion\n",
    "$$ x(t+dt) = x(t) + \\sqrt{2D} N(0, dt).$$\n",
    "where $N(0, dt)$ is a normal random variable (with zeros mean and variance $dt$) and $D$ is the particle diffusivity (units length$^2$/time)."
   ]
  },
  {
   "cell_type": "code",
   "execution_count": null,
   "metadata": {},
   "outputs": [],
   "source": [
    "def BrownianPath(N, D=1., dt=1.):\n",
    "    N = int(N)\n",
    "    assert N > 1\n",
    "    D = float64(D)\n",
    "    assert D > 0\n",
    "    dt = float64(dt)\n",
    "    assert dt > 0\n",
    "    q = sqrt(2*D*dt)\n",
    "    un = q*normal(0, 1, (N, 2))\n",
    "    sol = cumsum(un, axis=0)\n",
    "    x, y = sol.T\n",
    "    return x, y\n",
    "x, y = BrownianPath(500)\n",
    "matplotlib.rcParams.update({'font.size': 18}) # change default fontsize for plotting\n",
    "figure(1, [5, 5])\n",
    "plot(x, y);"
   ]
  },
  {
   "cell_type": "markdown",
   "metadata": {},
   "source": [
    "# Model #2: Fractional Brownian motion (FBM)\n",
    "$$ x(t+dt) = x(t) + \\Delta x(t + dt) $$\n",
    "$$ \\Delta {\\bf x} = \\sqrt{2D}{\\bf N}(0, V)  $$\n",
    "where ${\\bf N}$ is a vector of correlated normal random variables with covariance matrix\n",
    "$$V_{t, s} = \\frac{1}{2}\\left(t^{\\alpha} + s^{\\alpha} - |t - s|^{\\alpha}\\right).$$\n",
    "The degree of sub diffusion can be controlled by the parameter $0 < \\alpha \\leq 1$. When $\\alpha=1$, fractional brownian motion is equivalent to standard brownian motion.\n",
    "\n",
    "Notice that the increments $\\Delta {\\bf x}$ are correlated and the full set must be generated simultaneously instead of sequentially within a loop.\n",
    "\n",
    "## Try changing alpha in the figure below to compare FBM with brownian motion\n"
   ]
  },
  {
   "cell_type": "code",
   "execution_count": null,
   "metadata": {},
   "outputs": [],
   "source": [
    "def FBM(N, alpha=1., D=1., dt=1.):\n",
    "    N = int(N)\n",
    "    assert N > 1\n",
    "    alpha = float64(alpha)\n",
    "    assert 0 < alpha < 2\n",
    "    D = float64(D)\n",
    "    assert D > 0\n",
    "    dt = float64(dt)\n",
    "    assert dt > 0\n",
    "    q = sqrt(2*D*dt)\n",
    "    \n",
    "    t = linspace(0, (N-1)*dt, N)\n",
    "    T, S = meshgrid(t, t)\n",
    "    V = 0.5*(T**alpha + S**alpha - absolute(T - S)**alpha)\n",
    "    Lam, U = eig(V)\n",
    "    ## define R = U*sqrt(Lam)*Uinv\n",
    "    ## can check that R*R = V\n",
    "    R = matmul(matmul(U, diag(sqrt(Lam))), matrix(U).I)\n",
    "    un = q*normal(0, 1, (N, 2))\n",
    "    sol = matmul(un.T, R).T\n",
    "    return sol[:, 0], sol[:, 1]\n",
    "\n",
    "\n",
    "@interact(alpha=(0.025, 1., 0.025))\n",
    "def pfun(alpha=1.):\n",
    "    fig = figure(1, [10, 5])\n",
    "    x, y = FBM(500, alpha=alpha)\n",
    "    plot(x, y, label='FBM');\n",
    "    plot(0, 0, 'kx')\n",
    "    xBM, yBM = BrownianPath(500)\n",
    "    plot(100+xBM, yBM, label='Brownian motion');\n",
    "    plot(100, 0, 'kx')\n",
    "    xlabel('x')\n",
    "    ylabel('y')\n",
    "    xlim(-50, 150)\n",
    "    ylim(-50, 50)\n",
    "    legend(loc='upper center');"
   ]
  },
  {
   "cell_type": "markdown",
   "metadata": {},
   "source": [
    "# Particle tracking data\n",
    "## The first step is to import and preprocess a dataset"
   ]
  },
  {
   "cell_type": "code",
   "execution_count": null,
   "metadata": {},
   "outputs": [],
   "source": [
    "DataFiles = {\n",
    "    'Agarose': [\n",
    "        'Data/Agarose/Agarose.mat'],\n",
    "    'HA': [\n",
    "        'Data/HA/HA7.mat', \n",
    "        'Data/HA/HA10.mat'],\n",
    "    'HBE Mucus': [\n",
    "        'Data/HBE Mucus/HBE1p5',\n",
    "        'Data/HBE Mucus/HBE2',\n",
    "        'Data/HBE Mucus/HBE2p5',\n",
    "        'Data/HBE Mucus/HBE3',\n",
    "        'Data/HBE Mucus/HBE4',\n",
    "        'Data/HBE Mucus/HBE5'],\n",
    "    'Saltwater': [\n",
    "        'Data/Saltwater/saltwater.mat']}\n",
    "\n",
    "### time is in seconds and length is in microns\n",
    "dt = 1/60.\n",
    "dx = 1.\n",
    "def preprocess(data):\n",
    "    data = data[[k for k in data.keys() if '__' not in k][0]]\n",
    "    keys = data.dtype.names\n",
    "    fieldsToExtract = {\n",
    "        'FileName': 'FileNames', \n",
    "        'InitialPosition': 'InitialPositions', \n",
    "        'PathLength': 'PathLengths', \n",
    "        'Positions': 'Positions'}\n",
    "    cleaned = {}\n",
    "    for k, label in fieldsToExtract.iteritems():\n",
    "        assert k in keys\n",
    "        d = data[k].ravel()\n",
    "        if k == 'Positions':\n",
    "            starts = data['InitialPosition'].squeeze()\n",
    "            tracks = []\n",
    "            for n, track in enumerate(d):\n",
    "                x0 = starts[n].squeeze().astype('float64')\n",
    "                tracks.append(dx*(x0 + track.squeeze().astype('float64')))\n",
    "            cleaned[label] = tracks\n",
    "        else:\n",
    "            cleaned[label] = array([dj.squeeze() for dj in d])\n",
    "    cleaned['UniqueFileNames'] = unique(data['FileName'])\n",
    "    return cleaned\n",
    "##############################################\n",
    "condition = 'HBE Mucus'\n",
    "dataset = -1\n",
    "dataRaw = loadmat(DataFiles[condition][dataset])\n",
    "data = preprocess(dataRaw)"
   ]
  },
  {
   "cell_type": "markdown",
   "metadata": {},
   "source": [
    "# Looking at all the tracks in a given video"
   ]
  },
  {
   "cell_type": "code",
   "execution_count": null,
   "metadata": {
    "scrolled": false
   },
   "outputs": [],
   "source": [
    "Nfiles = data['UniqueFileNames'].size\n",
    "@interact(fileNumber=(0, Nfiles-1, 1), magFactor=(1., 10., 0.25))\n",
    "def plotfn(fileNumber=0, magFactor=1.):\n",
    "    figure(1, [8, 8])\n",
    "    fileName = data['UniqueFileNames'][fileNumber]\n",
    "    tracks = []\n",
    "    for track, name in zip(data['Positions'], data['FileNames']):\n",
    "        if str(name) == fileName:\n",
    "            tracks.append(track)\n",
    "    for track in tracks:\n",
    "        x0 = track[0]\n",
    "        track = magFactor*(track - x0) + x0\n",
    "        plot(track[:, 0], track[:, 1])\n",
    "    xlim(xmin=-0.1)\n",
    "    ylim(ymin=-0.1)\n",
    "    xlabel('x')\n",
    "    ylabel('y');\n",
    "    title(fileName[0]);"
   ]
  },
  {
   "cell_type": "markdown",
   "metadata": {},
   "source": [
    "In the figure above, notice there is an option to change 'magFactor'. Sometimes it is useful to visualize artificially stretched-out versions of the tracks. The 'magFactor' option keeps the relative starting positions of the tracks the same, while multiplying the displacements by 'magFactor'. The result can reveal patterns in the 'drift' that we might otherwise miss."
   ]
  },
  {
   "cell_type": "markdown",
   "metadata": {},
   "source": [
    "# Visualizing individual paths"
   ]
  },
  {
   "cell_type": "code",
   "execution_count": null,
   "metadata": {},
   "outputs": [],
   "source": [
    "Npaths = data['PathLengths'].size\n",
    "@interact(trackNumber=(0, Npaths-1, 1))\n",
    "def plotfn(trackNumber=0):\n",
    "    track = data['Positions'][trackNumber].copy()\n",
    "    track -= track[0]\n",
    "    DXY = absolute(track[-1] - track[0])\n",
    "    cutoff = 10.\n",
    "    r = max(1/cutoff, min(cutoff, DXY[1]/DXY[0]))\n",
    "    scale = max(2, min(10, 50*DXY.max()))\n",
    "    if r > 1:\n",
    "        figure(1, [scale/r, scale])\n",
    "    else:\n",
    "        figure(1, [scale, scale*r])\n",
    "    grid()\n",
    "    plot(track[:, 0], track[:, 1])\n",
    "    plot(track[0, 0], track[0, 1], 'ko')\n",
    "    xlabel('x')\n",
    "    ylabel('y');"
   ]
  },
  {
   "cell_type": "markdown",
   "metadata": {},
   "source": [
    "# Mean squared displacement analysis\n",
    "The MSD is estimated with the formula\n",
    "$$ MSD(\\tau) = \\frac{1}{T-\\tau}\\sum_{i=1}^{N - \\tau/\\Delta t}\\Vert {\\bf x}(t_i + \\tau) - {\\bf x}(t_i)\\Vert^2 $$\n",
    "where $\\tau$ is called the 'time lag' (must be an integer multiple of $\\Delta t$), $\\Delta t$ is the duration of one track increment (inverse of video framerate), $N$ is the number of observations in the track, and $T = N\\Delta t$ is the duration of the track."
   ]
  },
  {
   "cell_type": "code",
   "execution_count": null,
   "metadata": {},
   "outputs": [],
   "source": [
    "def MSD(track):\n",
    "    #x, y = track[:, 0], track[:, 1]\n",
    "    N, d = track.shape\n",
    "    T = N*dt\n",
    "    msd = zeros(N - 1)\n",
    "    for n in arange(1, N):\n",
    "        DXY = track[:N-n] - track[n:]\n",
    "        tau = n*dt\n",
    "        msd[n-1] = (DXY**2).sum()/(T - tau)\n",
    "    return msd\n",
    "\n",
    "fig = figure(1, [8, 5])\n",
    "for track in data['Positions'][:]:\n",
    "    msd = MSD(track)\n",
    "    N = msd.size\n",
    "    tau = linspace(dt, N*dt, N)\n",
    "    loglog(tau, msd)\n",
    "xlabel(r'time lag $\\tau$')\n",
    "ylabel('MSD');"
   ]
  },
  {
   "cell_type": "markdown",
   "metadata": {},
   "source": [
    "## Compute and plot the ensemble-averaged MSD\n",
    "Note that you will have to figure out how to average MSDs from tracks that have different lengths.\n",
    "The formula is\n",
    "$$ \\langle MSD(\\tau) \\rangle = \\frac{1}{N_{tr}(\\tau)}\\sum_{i=1}^{N_{tr}(\\tau)}MSD_i(\\tau), $$\n",
    "where $MSD_i(\\cdot)$ is the MSD computed for the $i$th track and $N_{tr}(\\tau)$ is the total number of tracks whose length is less than $\\tau$.\n"
   ]
  },
  {
   "cell_type": "code",
   "execution_count": null,
   "metadata": {
    "collapsed": true
   },
   "outputs": [],
   "source": []
  },
  {
   "cell_type": "markdown",
   "metadata": {},
   "source": [
    "## How is the ensemble-averaged MSD affected by 'drift' in the HBE Mucus dataset?"
   ]
  },
  {
   "cell_type": "code",
   "execution_count": null,
   "metadata": {
    "collapsed": true
   },
   "outputs": [],
   "source": []
  },
  {
   "cell_type": "markdown",
   "metadata": {},
   "source": [
    "## Can you correct for 'drift' in the MSD estimate?"
   ]
  },
  {
   "cell_type": "code",
   "execution_count": null,
   "metadata": {
    "collapsed": true
   },
   "outputs": [],
   "source": []
  },
  {
   "cell_type": "markdown",
   "metadata": {},
   "source": [
    "## How does MSD change with weight-% for HBE Mucus?\n",
    "Note that the HBE Mucus track data files correspond to 1.5%, 2%, 2.5%, 3%, 4%, and 5%. See also Fig. 2 in Hill et. al. PLOS One. 9:2 e87681 2014."
   ]
  },
  {
   "cell_type": "code",
   "execution_count": null,
   "metadata": {
    "collapsed": true
   },
   "outputs": [],
   "source": []
  },
  {
   "cell_type": "code",
   "execution_count": null,
   "metadata": {
    "collapsed": true
   },
   "outputs": [],
   "source": []
  },
  {
   "cell_type": "code",
   "execution_count": null,
   "metadata": {
    "collapsed": true
   },
   "outputs": [],
   "source": [
    "#!jupyter nbextension enable --py widgetsnbextension"
   ]
  }
 ],
 "metadata": {
  "kernelspec": {
   "display_name": "Python 2",
   "language": "python",
   "name": "python2"
  },
  "language_info": {
   "codemirror_mode": {
    "name": "ipython",
    "version": 2
   },
   "file_extension": ".py",
   "mimetype": "text/x-python",
   "name": "python",
   "nbconvert_exporter": "python",
   "pygments_lexer": "ipython2",
   "version": "2.7.15"
  }
 },
 "nbformat": 4,
 "nbformat_minor": 2
}
