{
 "cells": [
  {
   "cell_type": "code",
   "execution_count": 1,
   "metadata": {},
   "outputs": [
    {
     "name": "stdout",
     "output_type": "stream",
     "text": [
      "fatal: destination path 'Nice-summer-course' already exists and is not an empty directory.\r\n"
     ]
    }
   ],
   "source": [
    "!git clone https://github.com/newby-jay/Nice-summer-course.git"
   ]
  },
  {
   "cell_type": "code",
   "execution_count": 2,
   "metadata": {},
   "outputs": [
    {
     "name": "stdout",
     "output_type": "stream",
     "text": [
      "Populating the interactive namespace from numpy and matplotlib\n"
     ]
    }
   ],
   "source": [
    "%pylab inline\n",
    "%config InlineBackend.figure_format = 'retina'\n",
    "# from __future__ import division, print_function, absolute_import\n",
    "import IPython\n",
    "import IPython.display\n",
    "import ipywidgets as widgets\n",
    "from ipywidgets import interact\n",
    "import traitlets\n",
    "from PIL import Image\n",
    "import sys\n",
    "if sys.version_info.major == 3:\n",
    "    from io import BytesIO\n",
    "else:\n",
    "    from cStringIO import StringIO as BytesIO"
   ]
  },
  {
   "cell_type": "markdown",
   "metadata": {},
   "source": [
    "## Help documentation\n",
    "  1. Querry any object by executing ?object\n",
    "  2. built in help with help()"
   ]
  },
  {
   "cell_type": "code",
   "execution_count": 3,
   "metadata": {},
   "outputs": [],
   "source": [
    "x = zeros(5)\n",
    "?x"
   ]
  },
  {
   "cell_type": "code",
   "execution_count": 29,
   "metadata": {
    "scrolled": false
   },
   "outputs": [
    {
     "name": "stdout",
     "output_type": "stream",
     "text": [
      "Help on built-in function arange in module numpy:\n",
      "\n",
      "arange(...)\n",
      "    arange([start,] stop[, step,], dtype=None)\n",
      "    \n",
      "    Return evenly spaced values within a given interval.\n",
      "    \n",
      "    Values are generated within the half-open interval ``[start, stop)``\n",
      "    (in other words, the interval including `start` but excluding `stop`).\n",
      "    For integer arguments the function is equivalent to the Python built-in\n",
      "    `range` function, but returns an ndarray rather than a list.\n",
      "    \n",
      "    When using a non-integer step, such as 0.1, the results will often not\n",
      "    be consistent.  It is better to use `numpy.linspace` for these cases.\n",
      "    \n",
      "    Parameters\n",
      "    ----------\n",
      "    start : number, optional\n",
      "        Start of interval.  The interval includes this value.  The default\n",
      "        start value is 0.\n",
      "    stop : number\n",
      "        End of interval.  The interval does not include this value, except\n",
      "        in some cases where `step` is not an integer and floating point\n",
      "        round-off affects the length of `out`.\n",
      "    step : number, optional\n",
      "        Spacing between values.  For any output `out`, this is the distance\n",
      "        between two adjacent values, ``out[i+1] - out[i]``.  The default\n",
      "        step size is 1.  If `step` is specified as a position argument,\n",
      "        `start` must also be given.\n",
      "    dtype : dtype\n",
      "        The type of the output array.  If `dtype` is not given, infer the data\n",
      "        type from the other input arguments.\n",
      "    \n",
      "    Returns\n",
      "    -------\n",
      "    arange : ndarray\n",
      "        Array of evenly spaced values.\n",
      "    \n",
      "        For floating point arguments, the length of the result is\n",
      "        ``ceil((stop - start)/step)``.  Because of floating point overflow,\n",
      "        this rule may result in the last element of `out` being greater\n",
      "        than `stop`.\n",
      "    \n",
      "    See Also\n",
      "    --------\n",
      "    linspace : Evenly spaced numbers with careful handling of endpoints.\n",
      "    ogrid: Arrays of evenly spaced numbers in N-dimensions.\n",
      "    mgrid: Grid-shaped arrays of evenly spaced numbers in N-dimensions.\n",
      "    \n",
      "    Examples\n",
      "    --------\n",
      "    >>> np.arange(3)\n",
      "    array([0, 1, 2])\n",
      "    >>> np.arange(3.0)\n",
      "    array([ 0.,  1.,  2.])\n",
      "    >>> np.arange(3,7)\n",
      "    array([3, 4, 5, 6])\n",
      "    >>> np.arange(3,7,2)\n",
      "    array([3, 5])\n",
      "\n"
     ]
    }
   ],
   "source": [
    "help(arange)"
   ]
  },
  {
   "cell_type": "markdown",
   "metadata": {},
   "source": [
    "## \"Magics\" are commands that enhance a cell or perform other functions"
   ]
  },
  {
   "cell_type": "code",
   "execution_count": 5,
   "metadata": {},
   "outputs": [
    {
     "name": "stdout",
     "output_type": "stream",
     "text": [
      "CPU times: user 485 µs, sys: 901 µs, total: 1.39 ms\n",
      "Wall time: 2.3 ms\n"
     ]
    }
   ],
   "source": [
    "%%time\n",
    "y = 0\n",
    "for x in arange(50):\n",
    "    y += x"
   ]
  },
  {
   "cell_type": "code",
   "execution_count": 6,
   "metadata": {},
   "outputs": [
    {
     "name": "stdout",
     "output_type": "stream",
     "text": [
      "{\n",
      "  \"shell_port\": 49187,\n",
      "  \"iopub_port\": 56433,\n",
      "  \"stdin_port\": 59033,\n",
      "  \"control_port\": 40622,\n",
      "  \"hb_port\": 47080,\n",
      "  \"ip\": \"127.0.0.1\",\n",
      "  \"key\": \"4968e6a2-28d613a58bb40f229fc34baa\",\n",
      "  \"transport\": \"tcp\",\n",
      "  \"signature_scheme\": \"hmac-sha256\",\n",
      "  \"kernel_name\": \"\"\n",
      "}\n",
      "\n",
      "Paste the above JSON into a file, and connect with:\n",
      "    $> jupyter <app> --existing <file>\n",
      "or, if you are local, you can connect with just:\n",
      "    $> jupyter <app> --existing kernel-bfe0ff01-ce43-4b26-b0cb-835a09287848.json\n",
      "or even just:\n",
      "    $> jupyter <app> --existing\n",
      "if this is the most recent Jupyter kernel you have started.\n"
     ]
    }
   ],
   "source": [
    "%connect_info"
   ]
  },
  {
   "cell_type": "markdown",
   "metadata": {},
   "source": [
    "## If you are running Jupyter locally, you can launch an interactive graphical terminal console"
   ]
  },
  {
   "cell_type": "code",
   "execution_count": 7,
   "metadata": {},
   "outputs": [],
   "source": [
    "%qtconsole"
   ]
  },
  {
   "cell_type": "markdown",
   "metadata": {},
   "source": [
    "# Interactive Widgets"
   ]
  },
  {
   "cell_type": "markdown",
   "metadata": {},
   "source": [
    "## Simple INT slider"
   ]
  },
  {
   "cell_type": "code",
   "execution_count": 8,
   "metadata": {},
   "outputs": [
    {
     "data": {
      "application/vnd.jupyter.widget-view+json": {
       "model_id": "6b1b91bf34994a6baa1520131b74dbae",
       "version_major": 2,
       "version_minor": 0
      },
      "text/plain": [
       "IntSlider(value=1, description='a', max=5, min=1)"
      ]
     },
     "metadata": {},
     "output_type": "display_data"
    }
   ],
   "source": [
    "a = widgets.IntSlider(\n",
    "    description='a',\n",
    "    value=1,\n",
    "    min=1,\n",
    "    max=5,\n",
    "    step=1,\n",
    "    disabled=False,\n",
    "    continuous_update=True,\n",
    "    orientation='horizontal',\n",
    "    readout=True,\n",
    "    readout_format='d'\n",
    ")\n",
    "display(a)"
   ]
  },
  {
   "cell_type": "markdown",
   "metadata": {},
   "source": [
    "## Animations"
   ]
  },
  {
   "cell_type": "code",
   "execution_count": 9,
   "metadata": {},
   "outputs": [
    {
     "data": {
      "application/vnd.jupyter.widget-view+json": {
       "model_id": "e2beb873124c4ab89b6a4ba624427460",
       "version_major": 2,
       "version_minor": 0
      },
      "text/plain": [
       "VBox(children=(Image(value=b'\\x89PNG\\r\\n\\x1a\\n\\x00\\x00\\x00\\rIHDR\\x00\\x00\\x00\\x80\\x00\\x00\\x00\\x80\\x08\\x00\\x00\\x…"
      ]
     },
     "metadata": {},
     "output_type": "display_data"
    }
   ],
   "source": [
    "def rand_img():\n",
    "    I = uint8(255*rand(128, 128))\n",
    "    img = Image.fromarray(I)\n",
    "    f = BytesIO()\n",
    "    img.save(f, 'png')\n",
    "    return f.getvalue()\n",
    "def make_time_player(tmin, tmax, dt=1, frameRate=1./40.):\n",
    "    play = widgets.Play(\n",
    "        interval=1/frameRate,\n",
    "        value=0, min=tmin, max=tmax, step=dt,\n",
    "        description=\"Press play\",\n",
    "        disabled=False)\n",
    "    slider = widgets.IntSlider(min=tmin, max=tmax)\n",
    "    traitlets.link((play, 'value'), (slider, 'value'))\n",
    "    return play, widgets.HBox([play, slider])\n",
    "play, time_widget = make_time_player(0, 100)\n",
    "def call_back2(change, equalize = True, tracking = True):\n",
    "    Wimg.value = rand_img()\n",
    "Wimg = widgets.Image(\n",
    "    value=rand_img(),\n",
    "    format='png',\n",
    "    width=256,\n",
    "    height=256,\n",
    ")\n",
    "play.observe(call_back2, 'value')\n",
    "widgets.VBox([Wimg, time_widget])"
   ]
  },
  {
   "cell_type": "code",
   "execution_count": 10,
   "metadata": {
    "scrolled": false
   },
   "outputs": [
    {
     "data": {
      "application/vnd.jupyter.widget-view+json": {
       "model_id": "decfcb540bcc4e8e86e9c5207cb38950",
       "version_major": 2,
       "version_minor": 0
      },
      "text/plain": [
       "VBox(children=(Image(value=b'\\x89PNG\\r\\n\\x1a\\n\\x00\\x00\\x00\\rIHDR\\x00\\x00\\x00d\\x00\\x00\\x00d\\x08\\x02\\x00\\x00\\x00…"
      ]
     },
     "metadata": {},
     "output_type": "display_data"
    }
   ],
   "source": [
    "def get_frame(t, colorMap='bone'):\n",
    "    X, Y = meshgrid(linspace(-pi, pi, 100), linspace(-pi, pi, 100))\n",
    "    Z = X**2 + (0.5*Y - t/100.)**2\n",
    "    cm = matplotlib.pylab.get_cmap(colorMap)\n",
    "    I = 255*cm((1. + sin(Z**a.value + t/100.))/2.)[..., :3]\n",
    "    img = Image.fromarray(uint8(I))\n",
    "    f = BytesIO()\n",
    "    img.save(f, 'png')\n",
    "    return f.getvalue()\n",
    "\n",
    "def call_back3(change):\n",
    "    t = int(change['new'])\n",
    "    animation.value = get_frame(t, cmap_selector.value)\n",
    "play.observe(call_back3, 'value') \n",
    "animation = widgets.Image(\n",
    "    value=get_frame(0),\n",
    "    format='png',\n",
    "    width=400,\n",
    "    height=400)\n",
    "\n",
    "cmap_selector = widgets.ToggleButtons(\n",
    "    value='bone',\n",
    "    options=['viridis', 'magma', 'jet', 'bone'],\n",
    "    description='Colormap',\n",
    "    disabled=False,\n",
    "    button_style='', # 'success', 'info', 'warning', 'danger' or ''\n",
    ")\n",
    "widgets.VBox([animation, cmap_selector, time_widget, a])"
   ]
  },
  {
   "cell_type": "code",
   "execution_count": 24,
   "metadata": {},
   "outputs": [
    {
     "data": {
      "application/vnd.jupyter.widget-view+json": {
       "model_id": "0c6969efb0ce465582976519323479bc",
       "version_major": 2,
       "version_minor": 0
      },
      "text/plain": [
       "VBox(children=(Image(value=b'\\x89PNG\\r\\n\\x1a\\n\\x00\\x00\\x00\\rIHDR\\x00\\x00\\x00d\\x00\\x00\\x00d\\x08\\x02\\x00\\x00\\x00…"
      ]
     },
     "metadata": {},
     "output_type": "display_data"
    }
   ],
   "source": [
    "def get_frame2(Ib, colorMap='bone'):\n",
    "    I = float64(Image.open(BytesIO(Ib)))\n",
    "    I = exp(cos(I))\n",
    "    I -= I.min()\n",
    "    I *= 255/I.max()\n",
    "    #cm = matplotlib.pylab.get_cmap(colorMap)\n",
    "    #I = 255*cm(I)[..., :3]\n",
    "    img = Image.fromarray(uint8(I))\n",
    "    f = BytesIO()\n",
    "    img.save(f, 'png')\n",
    "    return f.getvalue()\n",
    "\n",
    "def call_back4(change):\n",
    "    Ib = change['new']\n",
    "    animation2.value = get_frame2(Ib, cmap_selector.value)\n",
    "animation.observe(call_back4, 'value') \n",
    "animation2 = widgets.Image(\n",
    "    value=get_frame2(animation.value),\n",
    "    format='png',\n",
    "    width=400,\n",
    "    height=400)\n",
    "widgets.VBox([animation2, time_widget])"
   ]
  },
  {
   "cell_type": "markdown",
   "metadata": {},
   "source": [
    "## Interesting Notebooks\n",
    "  * https://github.com/google/deepdream"
   ]
  }
 ],
 "metadata": {
  "kernelspec": {
   "display_name": "Python 3",
   "language": "python",
   "name": "python3"
  },
  "language_info": {
   "codemirror_mode": {
    "name": "ipython",
    "version": 3
   },
   "file_extension": ".py",
   "mimetype": "text/x-python",
   "name": "python",
   "nbconvert_exporter": "python",
   "pygments_lexer": "ipython3",
   "version": "3.6.8"
  },
  "widgets": {
   "state": {},
   "version": "1.1.2"
  }
 },
 "nbformat": 4,
 "nbformat_minor": 2
}
